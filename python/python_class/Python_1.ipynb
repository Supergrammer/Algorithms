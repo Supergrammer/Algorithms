{
 "cells": [
  {
   "cell_type": "code",
   "execution_count": 5,
   "metadata": {},
   "outputs": [
    {
     "name": "stdout",
     "output_type": "stream",
     "text": [
      "Hello Python!!!\n",
      "Hello Python!!!\n",
      "Hello Python!!!\n",
      "Hello Python!!!\n",
      "Hello Python!!!\n"
     ]
    }
   ],
   "source": [
    "print(\"Hello Python!!!\")\n",
    "print(\"Hello Python!!!\")\n",
    "print(\"Hello Python!!!\")\n",
    "print(\"Hello Python!!!\")\n",
    "print(\"Hello Python!!!\")"
   ]
  },
  {
   "cell_type": "markdown",
   "metadata": {},
   "source": [
    "###Hello"
   ]
  },
  {
   "cell_type": "markdown",
   "metadata": {},
   "source": [
    "#Hello\n",
    "##hello\n",
    "###hello"
   ]
  },
  {
   "cell_type": "markdown",
   "metadata": {},
   "source": [
    "#Hello\n",
    "##hello\n",
    "###hello"
   ]
  },
  {
   "cell_type": "code",
   "execution_count": 8,
   "metadata": {},
   "outputs": [
    {
     "name": "stdout",
     "output_type": "stream",
     "text": [
      "Hello Python!!!\n",
      "Ctrl + Enter = 실행\n"
     ]
    }
   ],
   "source": [
    "print(\"Hello Python!!!\")\n",
    "print(\"Ctrl + Enter = 실행\")"
   ]
  },
  {
   "cell_type": "code",
   "execution_count": 9,
   "metadata": {},
   "outputs": [
    {
     "name": "stdout",
     "output_type": "stream",
     "text": [
      "Hello Python!!!\n",
      "Shift + Enter = 실행 + 라인 바꾸기\n"
     ]
    }
   ],
   "source": [
    "print(\"Hello Python!!!\")\n",
    "print(\"Shift + Enter = 실행 + 라인 바꾸기\")"
   ]
  },
  {
   "cell_type": "code",
   "execution_count": null,
   "metadata": {},
   "outputs": [],
   "source": []
  }
 ],
 "metadata": {
  "kernelspec": {
   "display_name": "Python 3",
   "language": "python",
   "name": "python3"
  },
  "language_info": {
   "codemirror_mode": {
    "name": "ipython",
    "version": 3
   },
   "file_extension": ".py",
   "mimetype": "text/x-python",
   "name": "python",
   "nbconvert_exporter": "python",
   "pygments_lexer": "ipython3",
   "version": "3.7.4"
  }
 },
 "nbformat": 4,
 "nbformat_minor": 2
}
